{
 "cells": [
  {
   "cell_type": "code",
   "execution_count": 4,
   "metadata": {},
   "outputs": [
    {
     "name": "stdout",
     "output_type": "stream",
     "text": [
      "I am Yang.\n",
      "************\n",
      "yes sir!\n"
     ]
    }
   ],
   "source": [
    "def func(p):\n",
    "    print('I am {}.'.format(p))\n",
    "    return \"yes sir!\"\n",
    "he = \"Yang\"\n",
    "c= func(he)\n",
    "print(\"************\")\n",
    "print(c)"
   ]
  },
  {
   "cell_type": "code",
   "execution_count": 26,
   "metadata": {},
   "outputs": [
    {
     "name": "stdout",
     "output_type": "stream",
     "text": [
      "     1 -------------------\n",
      "     2      4 -------------------\n",
      "     3      6      9 -------------------\n",
      "     4      8     12     16 -------------------\n",
      "     5     10     15     20     25 -------------------\n",
      "     6     12     18     24     30     36 -------------------\n",
      "     7     14     21     28     35     42     49 -------------------\n",
      "     8     16     24     32     40     48     56     64 -------------------\n",
      "     9     18     27     36     45     54     63     72     81 -------------------\n"
     ]
    }
   ],
   "source": [
    "# 九九乘法表\n",
    "# version 1.0\n",
    "for row in range(1,10):\n",
    "    # 打印一行\n",
    "    for col in range(1, row+1):\n",
    "        # print函数默认任务打印完毕后换行\n",
    "        num = row * col \n",
    "        print( \"%6d\"%num,end=\" \")\n",
    "    print(\"-------------------\")"
   ]
  }
 ],
 "metadata": {
  "kernelspec": {
   "display_name": "Python 3",
   "language": "python",
   "name": "python3"
  },
  "language_info": {
   "codemirror_mode": {
    "name": "ipython",
    "version": 3
   },
   "file_extension": ".py",
   "mimetype": "text/x-python",
   "name": "python",
   "nbconvert_exporter": "python",
   "pygments_lexer": "ipython3",
   "version": "3.7.0"
  }
 },
 "nbformat": 4,
 "nbformat_minor": 2
}
