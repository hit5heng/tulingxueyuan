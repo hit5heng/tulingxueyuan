{
 "cells": [
  {
   "cell_type": "code",
   "execution_count": 1,
   "metadata": {},
   "outputs": [
    {
     "name": "stdout",
     "output_type": "stream",
     "text": [
      "Locals={'c': 100, 'd': 200, 'e': 111}\n",
      "Globals={'__name__': '__main__', '__doc__': 'Automatically created module for IPython interactive environment', '__package__': None, '__loader__': None, '__spec__': None, '__builtin__': <module 'builtins' (built-in)>, '__builtins__': <module 'builtins' (built-in)>, '_ih': ['', '# globals 和 locals\\n# globals 和 locals 叫做内建函数\\na = 1\\nb = 2\\n\\ndef fun(c,d):\\n    e = 111\\n    print(\"Locals={0}\".format(locals()))\\n    print(\"Globals={0}\".format(globals()))\\n    \\nfun(100, 200)'], '_oh': {}, '_dh': ['/home/steven/CookBook_and_Code/Debug History'], 'In': ['', '# globals 和 locals\\n# globals 和 locals 叫做内建函数\\na = 1\\nb = 2\\n\\ndef fun(c,d):\\n    e = 111\\n    print(\"Locals={0}\".format(locals()))\\n    print(\"Globals={0}\".format(globals()))\\n    \\nfun(100, 200)'], 'Out': {}, 'get_ipython': <bound method InteractiveShell.get_ipython of <ipykernel.zmqshell.ZMQInteractiveShell object at 0x7f11d1eee048>>, 'exit': <IPython.core.autocall.ZMQExitAutocall object at 0x7f11d064f6d8>, 'quit': <IPython.core.autocall.ZMQExitAutocall object at 0x7f11d064f6d8>, '_': '', '__': '', '___': '', '_i': '', '_ii': '', '_iii': '', '_i1': '# globals 和 locals\\n# globals 和 locals 叫做内建函数\\na = 1\\nb = 2\\n\\ndef fun(c,d):\\n    e = 111\\n    print(\"Locals={0}\".format(locals()))\\n    print(\"Globals={0}\".format(globals()))\\n    \\nfun(100, 200)', 'a': 1, 'b': 2, 'fun': <function fun at 0x7f11d0535f28>}\n"
     ]
    }
   ],
   "source": [
    "# globals 和 locals\n",
    "# globals 和 locals 叫做内建函数\n",
    "a = 1\n",
    "b = 2\n",
    "\n",
    "def fun(c,d):\n",
    "    e = 111\n",
    "    print(\"Locals={0}\".format(locals()))\n",
    "    print(\"Globals={0}\".format(globals()))\n",
    "    \n",
    "fun(100, 200)"
   ]
  },
  {
   "cell_type": "code",
   "execution_count": null,
   "metadata": {},
   "outputs": [],
   "source": []
  },
  {
   "cell_type": "code",
   "execution_count": 7,
   "metadata": {},
   "outputs": [
    {
     "name": "stdout",
     "output_type": "stream",
     "text": [
      "300\n"
     ]
    }
   ],
   "source": [
    "x = 100\n",
    "y = 200\n",
    "# 执行x+y\n",
    "# z = x + y\n",
    "z1 = x + y\n",
    "z3 = eval(\"x+y\")\n",
    "\n",
    "z2 = eval(\"print(x+y)\")\n"
   ]
  },
  {
   "cell_type": "code",
   "execution_count": 3,
   "metadata": {},
   "outputs": [
    {
     "name": "stdout",
     "output_type": "stream",
     "text": [
      "{}\n",
      "设置属性： age\n",
      "{'age': 18}\n",
      "18\n"
     ]
    }
   ],
   "source": [
    "# __setattr__案例\n",
    "class Person():\n",
    "    add = 3\n",
    "    def __init__(self):\n",
    "        pass\n",
    "    \n",
    "    def __setattr__(self, name, value):\n",
    "        print(\"设置属性： {0}\".format(name))\n",
    "        # 下面语句会导致问题，死循环\n",
    "        #self.name = value\n",
    "        # 此种情况，为了避免死循环，规定统一调用父类魔法函数\n",
    "        super().__setattr__(name, value)\n",
    "        \n",
    "p = Person()\n",
    "print(p.__dict__)\n",
    "p.age = 18\n",
    "print(p.__dict__)\n",
    "\n",
    "print(p.age)"
   ]
  }
 ],
 "metadata": {
  "kernelspec": {
   "display_name": "Python 3",
   "language": "python",
   "name": "python3"
  },
  "language_info": {
   "codemirror_mode": {
    "name": "ipython",
    "version": 3
   },
   "file_extension": ".py",
   "mimetype": "text/x-python",
   "name": "python",
   "nbconvert_exporter": "python",
   "pygments_lexer": "ipython3",
   "version": "3.7.0"
  }
 },
 "nbformat": 4,
 "nbformat_minor": 2
}
