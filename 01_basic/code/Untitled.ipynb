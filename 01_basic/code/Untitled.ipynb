{
 "cells": [
  {
   "cell_type": "code",
   "execution_count": 5,
   "metadata": {},
   "outputs": [
    {
     "name": "stdout",
     "output_type": "stream",
     "text": [
      "7\n",
      "-7\n"
     ]
    }
   ],
   "source": [
    "a = 0\n",
    "a += 7 #a = a+7的所写\n",
    "print(a)\n",
    "b = 0\n",
    "b -= a\n",
    "print(b)"
   ]
  },
  {
   "cell_type": "code",
   "execution_count": 1,
   "metadata": {},
   "outputs": [
    {
     "name": "stdout",
     "output_type": "stream",
     "text": [
      "Locals={'c': 100, 'd': 200, 'e': 3}\n",
      "Globals={'__name__': '__main__', '__doc__': 'Automatically created module for IPython interactive environment', '__package__': None, '__loader__': None, '__spec__': None, '__builtin__': <module 'builtins' (built-in)>, '__builtins__': <module 'builtins' (built-in)>, '_ih': ['', \"#globals and locals\\na = 1\\nb = 2\\ndef fun(c,d):\\n    e = 3\\n    print('Locals={0}'.format(locals()))\\n    print('Globals={0}'.format(globals()))\\nfun(100,200)\"], '_oh': {}, '_dh': ['/home/steven/anaconda_jupyter'], 'In': ['', \"#globals and locals\\na = 1\\nb = 2\\ndef fun(c,d):\\n    e = 3\\n    print('Locals={0}'.format(locals()))\\n    print('Globals={0}'.format(globals()))\\nfun(100,200)\"], 'Out': {}, 'get_ipython': <bound method InteractiveShell.get_ipython of <ipykernel.zmqshell.ZMQInteractiveShell object at 0x7f7c96bfec18>>, 'exit': <IPython.core.autocall.ZMQExitAutocall object at 0x7f7c94357fd0>, 'quit': <IPython.core.autocall.ZMQExitAutocall object at 0x7f7c94357fd0>, '_': '', '__': '', '___': '', '_i': '', '_ii': '', '_iii': '', '_i1': \"#globals and locals\\na = 1\\nb = 2\\ndef fun(c,d):\\n    e = 3\\n    print('Locals={0}'.format(locals()))\\n    print('Globals={0}'.format(globals()))\\nfun(100,200)\", 'a': 1, 'b': 2, 'fun': <function fun at 0x7f7c94244d90>}\n"
     ]
    }
   ],
   "source": [
    "#globals and locals\n",
    "a = 1\n",
    "b = 2\n",
    "def fun(c,d):\n",
    "    e = 3\n",
    "    print('Locals={0}'.format(locals()))\n",
    "    print('Globals={0}'.format(globals()))\n",
    "fun(100,200)"
   ]
  },
  {
   "cell_type": "code",
   "execution_count": 2,
   "metadata": {},
   "outputs": [
    {
     "name": "stdout",
     "output_type": "stream",
     "text": [
      "[1, 2, 3, 4, 5, 6]\n",
      "[1, 2, 3, 5, 6]\n"
     ]
    }
   ],
   "source": [
    "# 删除\n",
    "# del 删除\n",
    "# pop，从对位拿出一个元素，即把最后一个元素取出来\n",
    "a= [1,2,3,4,5,6]\n",
    "print(a)\n",
    "del(a[3])\n",
    "print(a)"
   ]
  },
  {
   "cell_type": "code",
   "execution_count": 3,
   "metadata": {},
   "outputs": [
    {
     "name": "stdout",
     "output_type": "stream",
     "text": [
      "{'s', 'd', 'sd'}\n",
      "{'s', 'h', 'd', 'sd'}\n"
     ]
    }
   ],
   "source": [
    "name = {'sd', 'd', 's'}\n",
    "li = {'s', 'd','h'}\n",
    "s = name.union(li)\n",
    "print(name)\n",
    "print(s)"
   ]
  }
 ],
 "metadata": {
  "kernelspec": {
   "display_name": "Python 3",
   "language": "python",
   "name": "python3"
  },
  "language_info": {
   "codemirror_mode": {
    "name": "ipython",
    "version": 3
   },
   "file_extension": ".py",
   "mimetype": "text/x-python",
   "name": "python",
   "nbconvert_exporter": "python",
   "pygments_lexer": "ipython3",
   "version": "3.7.0"
  }
 },
 "nbformat": 4,
 "nbformat_minor": 2
}
