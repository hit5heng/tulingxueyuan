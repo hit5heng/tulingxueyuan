{
 "cells": [
  {
   "cell_type": "markdown",
   "metadata": {},
   "source": [
    "# 程序三大结构\n",
    "- 顺序\n",
    "- 分支\n",
    "- 循环"
   ]
  },
  {
   "cell_type": "markdown",
   "metadata": {},
   "source": [
    "# 分支\n",
    "- 分支的基本语法\n",
    "\n",
    "        if 条件表达式：\n",
    "            语句1\n",
    "            语句2\n",
    "            语句3\n",
    "            ......\n",
    "- 条件表达式就是计算结果必须为布尔值的表达式\n",
    "- 表达式后面的冒号不能少\n",
    "- 注意if后面出现的语句，如果是if语句块，则鼻息同一个缩进等级\n",
    "- 条件表达式结果为true执行if后面的缩进的语句块"
   ]
  },
  {
   "cell_type": "code",
   "execution_count": 7,
   "metadata": {},
   "outputs": [
    {
     "name": "stdout",
     "output_type": "stream",
     "text": [
      "去叫家长来\n",
      "开始上课\n"
     ]
    }
   ],
   "source": [
    "age = 17\n",
    "if age<18:\n",
    "    print(\"去叫家长来\")\n",
    "print(\"开始上课\")"
   ]
  },
  {
   "cell_type": "code",
   "execution_count": 8,
   "metadata": {},
   "outputs": [
    {
     "name": "stdout",
     "output_type": "stream",
     "text": [
      "let's party\n"
     ]
    }
   ],
   "source": [
    "age = 19\n",
    "if age<18 :\n",
    "    print(\"去叫家长\")\n",
    "print(\"let's party\")"
   ]
  },
  {
   "cell_type": "markdown",
   "metadata": {},
   "source": [
    "## 双向分支\n",
    "    if xxx：\n",
    "        xxx\n",
    "        xxx\n",
    "    else：\n",
    "        xxx\n",
    "        xxx\n",
    "\n",
    "\n",
    "- 双向分支有两个分支，当程序执行到if ... else...语句的时候，一定会执行if或else中的一个，也仅执行一个\n",
    "- 缩进问题，if和else一个层级，其余语句一个层级 "
   ]
  },
  {
   "cell_type": "code",
   "execution_count": 2,
   "metadata": {},
   "outputs": [
    {
     "name": "stdout",
     "output_type": "stream",
     "text": [
      "q请输入性别female\n",
      "your input is: female\n",
      "take this suger\n",
      "let's party\n"
     ]
    }
   ],
   "source": [
    "#input的作用\n",
    "# 1. 在屏幕上输出括号内的字符串\n",
    "# 2. 接受用户输入的内容并返回到程序\n",
    "# 3. input返回的内容一定是字符串类型\n",
    "gender = input(\"please input your gender\")\n",
    "print(\"your input is: {}\".format(gender))\n",
    "\n",
    "if gender == \"male\":\n",
    "        print(\"come on!\")\n",
    "else:\n",
    "    print(\"take this suger\")\n",
    "print(\"let's party\")"
   ]
  },
  {
   "cell_type": "code",
   "execution_count": 4,
   "metadata": {},
   "outputs": [
    {
     "name": "stdout",
     "output_type": "stream",
     "text": [
      "please input your score: 59\n",
      "Fail\n"
     ]
    }
   ],
   "source": [
    "# 考试成绩判断\n",
    "# 90以上： 输出\n",
    "# 80-90：\n",
    "# 70-80：\n",
    "# 60-70：\n",
    "# 60以下： 输出：\n",
    "\n",
    "score = input(\"please input your score: \")\n",
    "\n",
    "# 需要把str转换成int，input返回的是字符串，而后面要和数值比较\n",
    "score = int(score) \n",
    "\n",
    "if score >= 90:\n",
    "    print(\"A\")\n",
    "if score >= 80 and score <90:\n",
    "    print(\"B\")\n",
    "if score >= 70 and score <80:\n",
    "    print(\"C\")\n",
    "if score >= 60 and score <70:\n",
    "    print(\"D\")\n",
    "if score <60:\n",
    "    print(\"Fail\")"
   ]
  },
  {
   "cell_type": "markdown",
   "metadata": {},
   "source": [
    "## 多路分支\n",
    "        if xxx:\n",
    "            xxx\n",
    "        elif xxx:\n",
    "            xxx\n",
    "        elif xxx:\n",
    "            xxx\n",
    "        ......\n",
    "        else:\n",
    "            xxx\n",
    "\n",
    "\n",
    "- elif 可以由很多歌\n",
    "- else可选\n",
    "- 多路分支只会选一个执行"
   ]
  },
  {
   "cell_type": "code",
   "execution_count": 5,
   "metadata": {},
   "outputs": [
    {
     "name": "stdout",
     "output_type": "stream",
     "text": [
      "please input your score: 59\n",
      "Fail\n"
     ]
    }
   ],
   "source": [
    "score = input(\"please input your score: \")\n",
    "\n",
    "# 需要把str转换成int，input返回的是字符串，而后面要和数值比较\n",
    "score = int(score) \n",
    "\n",
    "if score >= 90:\n",
    "    print(\"A\")\n",
    "elif score >= 80:\n",
    "    print(\"B\")\n",
    "elif score >= 70:\n",
    "    print(\"C\")\n",
    "elif score >= 60:\n",
    "    print(\"D\")\n",
    "elif score <60:#也可以用else\n",
    "    print(\"Fail\")"
   ]
  },
  {
   "cell_type": "markdown",
   "metadata": {},
   "source": [
    "## if语句其他\n",
    "- if语句可以嵌套使用，但是不推荐\n",
    "- python没有switch-case语句"
   ]
  },
  {
   "cell_type": "markdown",
   "metadata": {},
   "source": [
    "# 循环语句\n",
    "- 重复执行某个动作或者处理基本固定的事物\n",
    "- 分类\n",
    "    - for循环\n",
    "    - while循环\n",
    "## for循环\n",
    "    for 变量 in 序列：\n",
    "        语句1\n",
    "        语句2\n",
    "        ..."
   ]
  },
  {
   "cell_type": "code",
   "execution_count": 7,
   "metadata": {},
   "outputs": [
    {
     "name": "stdout",
     "output_type": "stream",
     "text": [
      "zhangsan\n",
      "lisi\n",
      "wangwu\n",
      "jingjing\n"
     ]
    }
   ],
   "source": [
    "# 列表就是一列数字或者其他值，一般用中括号表示\n",
    "# 例如  ['zhangsan', 'lisi', 'wangwu','jingjing']\n",
    "\n",
    "# 打印学生列表姓名\n",
    "for name in ['zhangsan','lisi','wangwu','jingjing']:\n",
    "    print(name)"
   ]
  },
  {
   "cell_type": "code",
   "execution_count": 9,
   "metadata": {},
   "outputs": [
    {
     "name": "stdout",
     "output_type": "stream",
     "text": [
      "zhangsan\n",
      "my student\n",
      "lisi\n",
      "my student\n",
      "wangwu\n",
      "my student\n",
      "jingjing\n",
      "my favorate jingjing come out.\n"
     ]
    }
   ],
   "source": [
    "# 打印学生列表姓名\n",
    "# 如果是jingjign，那肯定是我的最爱呀，\n",
    "# 如果是别的学生，那要冷酷的拒绝他\n",
    "for name in ['zhangsan','lisi','wangwu','jingjing']:\n",
    "    print(name)\n",
    "    if name == 'jingjing':\n",
    "        print('my favorate {} come out.'.format(name))\n",
    "    else:\n",
    "        print('my student')"
   ]
  },
  {
   "cell_type": "markdown",
   "metadata": {},
   "source": [
    "## range介绍\n",
    "- 生成一个数字序列\n",
    "- 具体范围可以设定"
   ]
  },
  {
   "cell_type": "code",
   "execution_count": 12,
   "metadata": {},
   "outputs": [
    {
     "name": "stdout",
     "output_type": "stream",
     "text": [
      "1\n",
      "2\n",
      "3\n",
      "4\n",
      "5\n",
      "6\n",
      "7\n",
      "8\n",
      "9\n",
      "10\n"
     ]
    }
   ],
   "source": [
    "#range练习\n",
    "#打印1-10的数字\n",
    "#注意，pyton中表示数字范围的两个数，一般包含左边的数，不包含有面的数\n",
    "#randint是特例，左右都包括\n",
    "for i in range(1,11):    #range（1，10）表示1-9\n",
    "    print(i)"
   ]
  },
  {
   "cell_type": "markdown",
   "metadata": {},
   "source": [
    "## for-else语句\n",
    "- 当佛日循环结束的时候，会执行else语句\n",
    "- else语句是可选语句"
   ]
  },
  {
   "cell_type": "code",
   "execution_count": 14,
   "metadata": {},
   "outputs": [
    {
     "name": "stdout",
     "output_type": "stream",
     "text": [
      "zhangsan\n",
      "my student\n",
      "lisi\n",
      "my student\n",
      "wangwu\n",
      "my student\n",
      "jingjing\n",
      "my favorate jingjing come out.\n",
      "others are not my students\n"
     ]
    }
   ],
   "source": [
    "# for-else语句\n",
    "# 打印列表中的同学，\n",
    "# 如果没有在列表中，或者列表结束了，我们需要打印提示语句，表示不在爱了\n",
    "\n",
    "# 打印学生列表姓名\n",
    "# 如果是jingjign，那肯定是我的最爱呀，\n",
    "# 如果是别的学生，那要冷酷的拒绝他\n",
    "for name in ['zhangsan','lisi','wangwu','jingjing']:\n",
    "    print(name)\n",
    "    if name == 'jingjing':\n",
    "        print('my favorate {} come out.'.format(name))\n",
    "    else:\n",
    "        print('my student')\n",
    "else:\n",
    "    print('others are not my students')"
   ]
  },
  {
   "cell_type": "markdown",
   "metadata": {},
   "source": [
    "## for循环之break,continue,pass\n",
    "- break：无条件结束某个循环\n",
    "- continue：无条件结束本次循环，重新进入下一轮循环\n",
    "- pass：表示路过，用于站位"
   ]
  },
  {
   "cell_type": "code",
   "execution_count": 16,
   "metadata": {},
   "outputs": [
    {
     "name": "stdout",
     "output_type": "stream",
     "text": [
      "1\n",
      "2\n",
      "3\n",
      "4\n",
      "5\n",
      "6\n",
      "I find you!\n"
     ]
    }
   ],
   "source": [
    "# 在数字1-10中，寻找数字7，一旦找到，打印出来，其余则什么都不做\n",
    "# for 循环中的变量表示，一般用i，k，m，n，或者indx，idx，item之类\n",
    "# 在python中，如果循环变量名称不重要，可以用下划线（_)代替\n",
    "for i in range(1,11):\n",
    "    if i == 7:\n",
    "        print('I find you!')\n",
    "        break\n",
    "    else:\n",
    "        print(i)"
   ]
  },
  {
   "cell_type": "code",
   "execution_count": 23,
   "metadata": {},
   "outputs": [
    {
     "name": "stdout",
     "output_type": "stream",
     "text": [
      "2,是偶数\n",
      "4,是偶数\n",
      "6,是偶数\n",
      "8,是偶数\n",
      "10,是偶数\n"
     ]
    }
   ],
   "source": [
    "# continue语句联系\n",
    "# 在数字1-10中，寻找所有偶数，找到偶数后打印偶数\n",
    "for i in range(1,11):\n",
    "    if i%2 == 0:\n",
    "        print(\"{},是偶数\".format(i))\n",
    "        continue"
   ]
  },
  {
   "cell_type": "code",
   "execution_count": 22,
   "metadata": {},
   "outputs": [
    {
     "name": "stdout",
     "output_type": "stream",
     "text": [
      "2 是偶数\n",
      "4 是偶数\n",
      "6 是偶数\n",
      "8 是偶数\n",
      "10 是偶数\n"
     ]
    }
   ],
   "source": [
    "# continue语句 版本 2\n",
    "# 在数字1-10中，寻找所有偶数，找到偶数后打印偶数\n",
    "# 本案例完整显示continue的用法和作用\n",
    "for i in range(1,11):\n",
    "    if i % 2 == 1:\n",
    "        continue\n",
    "        \n",
    "    print(\"{0} 是偶数\".format(i))"
   ]
  },
  {
   "cell_type": "code",
   "execution_count": 26,
   "metadata": {},
   "outputs": [
    {
     "name": "stdout",
     "output_type": "stream",
     "text": [
      "wo zai zheli\n",
      "wo zai zheli\n",
      "wo zai zheli\n",
      "wo zai zheli\n",
      "wo zai zheli\n",
      "wo zai zheli\n",
      "wo zai zheli\n",
      "wo zai zheli\n",
      "wo zai zheli\n",
      "wo zai zheli\n"
     ]
    }
   ],
   "source": [
    "# pass例子，一般用于占位\n",
    "# pass没有跳过功能\n",
    "\n",
    "for i in range(1,11):\n",
    "    pass\n",
    "    print(\"wo zai zheli\")\n",
    "\n"
   ]
  },
  {
   "cell_type": "code",
   "execution_count": null,
   "metadata": {},
   "outputs": [],
   "source": []
  }
 ],
 "metadata": {
  "kernelspec": {
   "display_name": "Python 3",
   "language": "python",
   "name": "python3"
  },
  "language_info": {
   "codemirror_mode": {
    "name": "ipython",
    "version": 3
   },
   "file_extension": ".py",
   "mimetype": "text/x-python",
   "name": "python",
   "nbconvert_exporter": "python",
   "pygments_lexer": "ipython3",
   "version": "3.7.0"
  }
 },
 "nbformat": 4,
 "nbformat_minor": 2
}
