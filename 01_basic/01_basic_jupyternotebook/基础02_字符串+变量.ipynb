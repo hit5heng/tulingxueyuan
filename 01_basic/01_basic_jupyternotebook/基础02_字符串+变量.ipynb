{
 "cells": [
  {
   "cell_type": "markdown",
   "metadata": {},
   "source": [
    "# 字符串\n",
    "- 转义字符\n",
    "- 格式化\n",
    "- 内建函数（后延）\n",
    "\n",
    "## 转义字符\n",
    "- 用一个特殊的方法表示出一系列不犯边写出的内容，比如回车键，换行键，退格键\n",
    "- 借助反斜杠字符，一旦字符串中出现反斜杠，则反斜杠后面一个或几个字符表示已经不是原来的意思，进行了转义\n",
    "- 在字符串中，一旦出现反斜杠就要加倍小心，可能出现转义字符出现\n",
    "- 换行操作\n",
    "    - windows： \\n\n",
    "    - linux: \\r\\n\n",
    "    "
   ]
  },
  {
   "cell_type": "code",
   "execution_count": 3,
   "metadata": {},
   "outputs": [
    {
     "name": "stdout",
     "output_type": "stream",
     "text": [
      "i love you\n",
      "let's go\n",
      "let's go\n",
      "c:\\user\n",
      "I love \r\n",
      " you\n"
     ]
    }
   ],
   "source": [
    "s = \"i love you\"\n",
    "print(s)\n",
    "\n",
    "s = \"let's go\"\n",
    "print(s)\n",
    "\n",
    "ss = 'let\\'s go' #\\' => '\n",
    "print(ss)\n",
    "\n",
    "sss = \"c:\\\\user\" #\\\\ => \\\n",
    "print(sss)\n",
    "\n",
    "s1 = \"I love \\r\\n you\" #\\r\\n => 换行\n",
    "print(s1)"
   ]
  },
  {
   "cell_type": "markdown",
   "metadata": {},
   "source": [
    "## 字符串的格式化\n",
    "- 把字符串按照一定格式打印或者填充\n",
    "- 格式化有两种方法\n",
    "    - 利用百分号%\n",
    "    - 利用format函数\n",
    "    \n",
    "### 利用百分号格式化\n",
    "- 在字符串中，利用%表示一个特殊的含义，表示对字符串进行格式化\n",
    "- %d：此处inggai放入一个整数\n",
    "- %s：表示此处应该放入一个字符串\n"
   ]
  },
  {
   "cell_type": "code",
   "execution_count": 7,
   "metadata": {},
   "outputs": [
    {
     "name": "stdout",
     "output_type": "stream",
     "text": [
      "I love %s\n",
      "I love you\n",
      "I love you\n"
     ]
    }
   ],
   "source": [
    "s = \"I love %s\"\n",
    "print(s) #直接把%s作为字符串的一个内容打印出来\n",
    "\n",
    "print(\"I love %s\"%\"you\")\n",
    "\n",
    "print(s%\"you\")"
   ]
  },
  {
   "cell_type": "code",
   "execution_count": 11,
   "metadata": {},
   "outputs": [
    {
     "name": "stdout",
     "output_type": "stream",
     "text": [
      "I am %d years old.\n",
      "I am 18 years old.\n",
      "I am steven, i am 24 years old\n"
     ]
    }
   ],
   "source": [
    "s = \"I am %d years old.\"\n",
    "print(s)\n",
    "print(s%18)\n",
    "\n",
    "s = \"I am %s, i am %d years old\"  #注意字符串中有几个占位符，必须用几个实际内容代替，或者一个也不要（当作内容打印），否则出错\n",
    "#print(s%\"steven\")会出现上述错误\n",
    "print(s%(\"steven\",24))"
   ]
  },
  {
   "cell_type": "markdown",
   "metadata": {},
   "source": [
    "### format函数格式化字符串（推荐使用这种方法）\n",
    "- 直接用format函数进行格式化字符串\n",
    "- 在使用上，以{}和：代替%，后面用format()代参数完成"
   ]
  },
  {
   "cell_type": "code",
   "execution_count": 15,
   "metadata": {},
   "outputs": [
    {
     "name": "stdout",
     "output_type": "stream",
     "text": [
      "I love you.\n",
      "Yes, I am 18 years old, I love XXX, I am 18\n"
     ]
    }
   ],
   "source": [
    "s = \"I love {}.\".format(\"you\")\n",
    "print(s)\n",
    "\n",
    "s = \"Yes, I am {1} years old, I love {0}, I am {1}\".format(\"XXX\",18)\n",
    "print(s)"
   ]
  },
  {
   "cell_type": "markdown",
   "metadata": {},
   "source": [
    "## None\n",
    "- 表示什么都没有\n",
    "- 如果寒食没有返回值，可以返回None\n",
    "- 用来占位置\n",
    "- 用来解除变量的绑定"
   ]
  },
  {
   "cell_type": "markdown",
   "metadata": {},
   "source": [
    "# 表达式\n",
    "- 由一个或几个数字或者变量和运算符组合成的一行代码\n",
    "- 通常会返回一个结果\n",
    "\n",
    "# 运算符\n",
    "- 由一个以上的值经过变化得到新值的过程叫运算\n",
    "- 用于运算的符号\n",
    "- 运算符的分类\n",
    "    - 算术运算符\n",
    "    - 比较或者关系运算符\n",
    "    - 赋值运算符\n",
    "    - 逻辑运算符\n",
    "    - 位运算\n",
    "    - 成员运算符\n",
    "    - 身份运算符"
   ]
  },
  {
   "cell_type": "markdown",
   "metadata": {},
   "source": [
    "## 算术运算符（PYTHON没有自增自减运算符）\n",
    "- 进行算术运算的符号 +，-，*，/\n",
    "- 取余运算%，取商运算也叫地板除//\n",
    "- 幂运算**"
   ]
  },
  {
   "cell_type": "markdown",
   "metadata": {},
   "source": [
    "## 比较运算符\n",
    "- 对两个变量或者值进行比较的运算符\n",
    "- 比较的结果是布尔值，即True/False\n",
    "- 等于号==\n",
    "- 不等于！=\n",
    "- >       <      >=        <="
   ]
  },
  {
   "cell_type": "code",
   "execution_count": 17,
   "metadata": {},
   "outputs": [
    {
     "name": "stdout",
     "output_type": "stream",
     "text": [
      "False\n",
      "True\n"
     ]
    }
   ],
   "source": [
    "a = 3**4\n",
    "b = a ==80\n",
    "c = a != 80\n",
    "print(b)\n",
    "print(c)"
   ]
  },
  {
   "cell_type": "markdown",
   "metadata": {},
   "source": [
    "## 赋值运算符\n",
    "- =，赋值\n",
    "- +=，是所写,包括-=，/=，//=，%=，**=等等"
   ]
  },
  {
   "cell_type": "code",
   "execution_count": 25,
   "metadata": {},
   "outputs": [
    {
     "name": "stdout",
     "output_type": "stream",
     "text": [
      "7\n",
      "-7\n"
     ]
    }
   ],
   "source": [
    "a = 0\n",
    "a += 7 #a = a+7的所写\n",
    "print(a)\n",
    "b =0\n",
    "b -= a\n",
    "print(b)"
   ]
  },
  {
   "cell_type": "markdown",
   "metadata": {},
   "source": [
    "## 逻辑运算符\n",
    "- 对布尔值进行计算的符号\n",
    "- and，or，not\n",
    "- python中没有异或运算\n",
    "- 运算规则\n",
    "    - and看作乘法，or看作除法，True看作1，False看作0"
   ]
  },
  {
   "cell_type": "markdown",
   "metadata": {},
   "source": [
    "## 成员运算符号\n",
    "- 用来检测某个变量是否是另一个变量的成员\n",
    "- in ， not in"
   ]
  },
  {
   "cell_type": "code",
   "execution_count": 26,
   "metadata": {},
   "outputs": [
    {
     "name": "stdout",
     "output_type": "stream",
     "text": [
      "False\n",
      "True\n"
     ]
    }
   ],
   "source": [
    "#案例\n",
    "l =[1,2,3,4,5]\n",
    "a = 7\n",
    "b = a in l\n",
    "print(b)\n",
    "c = a not in l\n",
    "print(c)"
   ]
  },
  {
   "cell_type": "markdown",
   "metadata": {},
   "source": [
    "## 身份运算符\n",
    "- 用来检测两个变量是否是同一个变量\n",
    "- is ， is not"
   ]
  },
  {
   "cell_type": "code",
   "execution_count": 1,
   "metadata": {},
   "outputs": [
    {
     "name": "stdout",
     "output_type": "stream",
     "text": [
      "True\n",
      "False\n"
     ]
    }
   ],
   "source": [
    "a = 9\n",
    "b = 9\n",
    "print(a is b)\n",
    "a = \"I love you\"\n",
    "b = \"I love you\"\n",
    "print(a is b)"
   ]
  },
  {
   "cell_type": "markdown",
   "metadata": {},
   "source": [
    "## 运算符的优先级问题\n",
    "- 括号具有最高优先级，\n",
    "        \n",
    "        **  指数 (最高优先级)\n",
    "        ~ + -   按位翻转, 一元加号和减号 (最后两个的方法名为 +@ 和 -@)\n",
    "        * / % //    乘，除，取模和取整除\n",
    "        + - 加法减法\n",
    "        >> <<   右移，左移运算符\n",
    "        &   位 'AND'\n",
    "        ^ | 位运算符\n",
    "        <= < > >=   比较运算符\n",
    "        <> == !=    等于运算符\n",
    "        = %= /= //= -= += *= **=    赋值运算符\n",
    "        is is not   身份运算符\n",
    "        in not in   成员运算符\n",
    "        not or and  逻辑运算符\n"
   ]
  }
 ],
 "metadata": {
  "kernelspec": {
   "display_name": "Python 3",
   "language": "python",
   "name": "python3"
  },
  "language_info": {
   "codemirror_mode": {
    "name": "ipython",
    "version": 3
   },
   "file_extension": ".py",
   "mimetype": "text/x-python",
   "name": "python",
   "nbconvert_exporter": "python",
   "pygments_lexer": "ipython3",
   "version": "3.7.0"
  }
 },
 "nbformat": 4,
 "nbformat_minor": 2
}
