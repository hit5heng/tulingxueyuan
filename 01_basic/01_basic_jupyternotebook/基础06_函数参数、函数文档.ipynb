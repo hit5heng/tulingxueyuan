{
 "cells": [
  {
   "cell_type": "markdown",
   "metadata": {},
   "source": [
    "# 四类参数\n",
    "- 普通参数\n",
    "- 默认参数\n",
    "- 关键字参数\n",
    "- 收集参数\n",
    "\n",
    "## 关键字参数\n",
    "- 语法\n",
    "        def func_name(p1=v1,p2=v2...):\n",
    "            func_block\n",
    "        调用函数\n",
    "        func_name(p1=v1,p2=v2...)\n",
    "- 利弊\n",
    "    - 不容易混淆，一般实参和形参只是按照位置一一对应即可\n",
    "    - 使用关键字参数，可以不考虑参数位置\n"
   ]
  },
  {
   "cell_type": "code",
   "execution_count": 21,
   "metadata": {},
   "outputs": [
    {
     "name": "stdout",
     "output_type": "stream",
     "text": [
      "I am a student.\n",
      "I am 24, I am Steven, I live in China.\n",
      "I am a student.\n",
      "I am Steven, I am 24, I live in China.\n",
      "I am a student.\n",
      "I am Steven, I am 24, I live in no address.\n",
      "I am a student.\n",
      "I am no name, I am 0, I live in no address.\n"
     ]
    }
   ],
   "source": [
    "#关键字参数示例\n",
    "def stu(name=\"no name\",age=\"0\",addr=\"no address\"):\n",
    "    print('I am a student.')\n",
    "    print('I am {0}, I am {1}, I live in {2}.'.format(name,age,addr))\n",
    "    \n",
    "n = \"Steven\"\n",
    "a = 24\n",
    "addr = 'China'\n",
    "stu(a,n,addr)    #普通参数，只按照位置传递，容易出错\n",
    "\n",
    "stu(name=n,age=a,addr=addr)    \n",
    "stu(age=a,name=n)    #使用关键字，可以不考虑参数位置，，，，函数中有默认参数addr=\"no address\"    "
   ]
  },
  {
   "cell_type": "markdown",
   "metadata": {},
   "source": [
    "## 收集参数\n",
    "- 把没有位置，不能和定义时的参数位置相对应的参数，放入一个特定的数据结构中\n",
    "- 语法\n",
    "        def func_name(*args):\n",
    "            func_body\n",
    "            可iyi在南诏list使用方式访问args得到传入的参数\n",
    "        调用\n",
    "        func(p1,p2,....)\n",
    "- 参数名args不是必须这么写，但是推荐用atgs，约定俗成\n",
    "- 参数名args前面需要有星号\n",
    "- 收集参数可以和其他参数共存"
   ]
  },
  {
   "cell_type": "code",
   "execution_count": 22,
   "metadata": {},
   "outputs": [
    {
     "name": "stdout",
     "output_type": "stream",
     "text": [
      "Hello, everyone.\n",
      "<class 'tuple'>\n",
      "Nana\n",
      "22\n",
      "Beijing\n",
      "male\n",
      "single\n",
      "Hello, everyone.\n",
      "<class 'tuple'>\n",
      "Zhou\n",
      "Hello, everyone.\n",
      "<class 'tuple'>\n"
     ]
    }
   ],
   "source": [
    "#收集参数示例\n",
    "# 函数模拟一个学生进行自我介绍，但具体内容不清楚\n",
    "# args把他看做一个list\n",
    "def stu(*args):\n",
    "    print('Hello, everyone.')\n",
    "    print(type(args))    #type函数检测变量的类型，tuple\n",
    "    for item in args:\n",
    "        print(item)\n",
    "    \n",
    "stu('Nana',22,'Beijing','male','single')\n",
    "stu('Zhou')\n",
    "\n",
    "\n",
    "\n",
    "stu()    # 收集参数可以为空案例"
   ]
  },
  {
   "cell_type": "code",
   "execution_count": 12,
   "metadata": {},
   "outputs": [
    {
     "ename": "TypeError",
     "evalue": "stu() got an unexpected keyword argument 'name'",
     "output_type": "error",
     "traceback": [
      "\u001b[0;31m---------------------------------------------------------------------------\u001b[0m",
      "\u001b[0;31mTypeError\u001b[0m                                 Traceback (most recent call last)",
      "\u001b[0;32m<ipython-input-12-e008c11fba93>\u001b[0m in \u001b[0;36m<module>\u001b[0;34m()\u001b[0m\n\u001b[1;32m      1\u001b[0m \u001b[0;31m#如果使用关键字参数格式调用，会出现问题\u001b[0m\u001b[0;34m\u001b[0m\u001b[0;34m\u001b[0m\u001b[0m\n\u001b[0;32m----> 2\u001b[0;31m \u001b[0mstu\u001b[0m\u001b[0;34m(\u001b[0m\u001b[0mname\u001b[0m\u001b[0;34m=\u001b[0m\u001b[0;34m'Zhou'\u001b[0m\u001b[0;34m)\u001b[0m\u001b[0;34m\u001b[0m\u001b[0m\n\u001b[0m",
      "\u001b[0;31mTypeError\u001b[0m: stu() got an unexpected keyword argument 'name'"
     ]
    }
   ],
   "source": [
    "#如果使用关键字参数格式调用，会出现问题\n",
    "stu(name='Zhou')"
   ]
  },
  {
   "cell_type": "markdown",
   "metadata": {},
   "source": [
    "### 收集函数之关键字收集参数\n",
    "- 把关键字参数按照字典格式存入收集参数\n",
    "- 语法\n",
    "        def func_name(**kwargs):\n",
    "            func_body\n",
    "        调用\n",
    "        func(p1=v1,p2=v2,....)\n",
    "- kwargs一般约定俗成\n",
    "- 调用的时候，把多余的关键字参数放入kwargs\n",
    "- 访问kwargs需要按照字典格式访问"
   ]
  },
  {
   "cell_type": "code",
   "execution_count": 20,
   "metadata": {},
   "outputs": [
    {
     "name": "stdout",
     "output_type": "stream",
     "text": [
      "<class 'dict'>\n",
      "name :  Steven\n",
      "age :  24\n",
      "sddr :  China\n",
      "work :  student\n",
      "********************\n",
      "<class 'dict'>\n"
     ]
    }
   ],
   "source": [
    "#关键字收集参数示例\n",
    "def stu(**kwargs):\n",
    "    print(type(kwargs))    #type函数检测变量的类型,dict\n",
    "    #对于字典的访问，python2和3有区别，“kv对“\n",
    "    for k,v in kwargs.items():    #注意用kwargs.items()\n",
    "        print(k,': ',v)\n",
    "\n",
    "stu(name='Steven',age=24,sddr='China',work='student')\n",
    "print('*' * 20)    #字符串乘法 = 字符串重复次数\n",
    "\n",
    "\n",
    "stu()    # 收集参数可以为空案例"
   ]
  },
  {
   "cell_type": "markdown",
   "metadata": {},
   "source": [
    "### 收集参数混合调用的顺序问题\n",
    "- 收集参数，关键字参数，普通参数可以混合使用\n",
    "- 使用规则：普通参数和关键字参数优先\n",
    "- 定义的时候一般找普通参数，关键字参数，收集参数tuple，收集参数dict（关键字收集参数）（##此处有疑问，看下示例）"
   ]
  },
  {
   "cell_type": "code",
   "execution_count": 31,
   "metadata": {},
   "outputs": [
    {
     "name": "stdout",
     "output_type": "stream",
     "text": [
      "Hello, everyone,\n",
      "I am Steven, I am 24 years old.\n",
      "I have no hobby.\n",
      "********************\n",
      "####################\n",
      "Hello, everyone,\n",
      "I am Steven, I am 24 years old.\n",
      "My hobby is swim\n",
      "********************\n",
      "####################\n",
      "Hello, everyone,\n",
      "I am Steven, I am 24 years old.\n",
      "My hobby is swim\n",
      "********************\n",
      "Nana\n",
      "Zhou\n",
      "####################\n",
      "hobby2 :  cook\n"
     ]
    }
   ],
   "source": [
    "# 收集参数案例\n",
    "# 自我介绍\n",
    "# 调用的时候需要使用关键字参数调用\n",
    "def stu(name,age,*args,hobby='no hobby',**kwargs):\n",
    "    print('Hello, everyone,')\n",
    "    print('I am {0}, I am {1} years old.'.format(name,age))\n",
    "    if hobby == 'no hobby':\n",
    "        print('I have no hobby.')\n",
    "    else:\n",
    "        print('My hobby is {0}'.format(hobby))\n",
    "    \n",
    "    print('*' * 20)\n",
    "    \n",
    "    for i in args:\n",
    "        print(i)\n",
    "    \n",
    "    print('#' * 20)\n",
    "    \n",
    "    for k,v in kwargs.items():\n",
    "        print(k,': ',v)\n",
    "        \n",
    "#开始调用\n",
    "name = 'Steven'\n",
    "age = 24\n",
    "stu(name,age)\n",
    "\n",
    "stu(name,age,hobby='swim')\n",
    "\n",
    "stu(name,age,'Nana','Zhou',hobby='swim',hobby2='cook')"
   ]
  },
  {
   "cell_type": "markdown",
   "metadata": {},
   "source": [
    "### 收集参数的解包问题\n",
    "- 把参数放入list或dict中，直接把list、dict中的值放入收集参数中"
   ]
  },
  {
   "cell_type": "code",
   "execution_count": 39,
   "metadata": {},
   "outputs": [
    {
     "name": "stdout",
     "output_type": "stream",
     "text": [
      "<class 'list'>\n",
      "0\n",
      "['lili', 'nana', 19, 20]\n",
      "------------\n",
      "<class 'str'>\n",
      "0\n",
      "lili\n",
      "<class 'str'>\n",
      "1\n",
      "nana\n",
      "<class 'int'>\n",
      "2\n",
      "19\n",
      "<class 'int'>\n",
      "3\n",
      "20\n"
     ]
    }
   ],
   "source": [
    "#示例\n",
    "def stu(*args):\n",
    "    n = 0\n",
    "    for i in args:\n",
    "        print(type(i))\n",
    "        # n 用来表示循环次数\n",
    "    # 主要用来调试\n",
    "        print(n)\n",
    "        n += 1\n",
    "        print(i)\n",
    "        \n",
    "#stu('lili','nana',19,20)\n",
    "\n",
    "l=['lili','nana',19,20]\n",
    "\n",
    "stu(l)\n",
    "print('------------')\n",
    "# 此时，args的表示形式是字典内一个list类型的元素，即 arg = ([\"liuying\", 19, 23, \"wangxiaojing\"],)\n",
    "# 很显然跟我们最初的想法违背\n",
    "\n",
    "\n",
    "# 此时的调用，我们就需要解包符号，即调用的时候前面加一个星号\n",
    "stu(*l)"
   ]
  },
  {
   "cell_type": "markdown",
   "metadata": {},
   "source": [
    "\n",
    "### 同理，dict类型收集参数一样可以解包，但是\n",
    "- 对dict类型进行解包\n",
    "- 需要用两个星号进行解包\n",
    "\n"
   ]
  },
  {
   "cell_type": "markdown",
   "metadata": {},
   "source": [
    "# 返回值\n",
    "- 函数和过程的区别\n",
    "    - 有无返回值\n",
    "- 需要用return显示返回内容，\n",
    "- 如果没有返回，则默认返回None\n",
    "- 推荐写法，无论有无返回值，最后都要以return 结束"
   ]
  },
  {
   "cell_type": "code",
   "execution_count": 40,
   "metadata": {},
   "outputs": [
    {
     "name": "stdout",
     "output_type": "stream",
     "text": [
      "有返回值呀\n",
      "1\n",
      "没有返回值\n",
      "None\n"
     ]
    }
   ],
   "source": [
    "# 返回值示例\n",
    "\n",
    "def func_1():\n",
    "    print(\"有返回值呀\")\n",
    "    return 1\n",
    "\n",
    "def func_2():\n",
    "    print(\"没有返回值\")\n",
    "     \n",
    "    \n",
    "f1 = func_1()    #执行函数，返回值赋值给f1\n",
    "print(f1)\n",
    "\n",
    "f2 = func_2()\n",
    "print(f2)"
   ]
  },
  {
   "cell_type": "markdown",
   "metadata": {},
   "source": [
    "# 函数文档\n",
    "- 函数的文档的作用是对当前的函数提供使用相关的参考信息\n",
    "- 文档的写法：\n",
    "    - 在函数内部开始的第一行使用三引号字符串定义符\n",
    "    - 一般具有特定格式\n",
    "    - 参看案例\n",
    "- 文档查看\n",
    "    - 使用help函数，形如 help(func)\n",
    "    - 使用doc, 参看案例"
   ]
  },
  {
   "cell_type": "code",
   "execution_count": 41,
   "metadata": {},
   "outputs": [],
   "source": [
    "# 文档案例\n",
    "# 函数stu是模拟一个学生的自我介绍的内容\n",
    "def stu(name, age, *args):\n",
    "    '''\n",
    "    这是第一行\n",
    "    这是第二行\n",
    "    这是第三行\n",
    "    '''\n",
    "    print(\"This is hanshu stu\")"
   ]
  },
  {
   "cell_type": "code",
   "execution_count": 45,
   "metadata": {},
   "outputs": [
    {
     "name": "stdout",
     "output_type": "stream",
     "text": [
      "Help on function stu in module __main__:\n",
      "\n",
      "stu(name, age, *args)\n",
      "    这是第一行\n",
      "    这是第二行\n",
      "    这是第三行\n",
      "\n"
     ]
    },
    {
     "data": {
      "text/plain": [
       "'\\n    这是第一行\\n    这是第二行\\n    这是第三行\\n    '"
      ]
     },
     "execution_count": 45,
     "metadata": {},
     "output_type": "execute_result"
    }
   ],
   "source": [
    "# 查看文档help\n",
    "help(stu)\n",
    "# 查看文档doc\n",
    "stu.__doc__    #连续两个下划线"
   ]
  },
  {
   "cell_type": "code",
   "execution_count": 46,
   "metadata": {},
   "outputs": [
    {
     "name": "stdout",
     "output_type": "stream",
     "text": [
      "Help on function stu in module __main__:\n",
      "\n",
      "stu(name, age)\n",
      "    这是文档的文字内容\n",
      "    :param name: 表示学生的姓名\n",
      "    :param age: 表示学生的年龄\n",
      "    :return: 此函数没有返回值\n",
      "\n",
      "None\n",
      "********************\n",
      "\n",
      "    这是文档的文字内容\n",
      "    :param name: 表示学生的姓名\n",
      "    :param age: 表示学生的年龄\n",
      "    :return: 此函数没有返回值\n",
      "    \n"
     ]
    }
   ],
   "source": [
    "#pycharm中的函数文档\n",
    "def stu(name, age):\n",
    "    '''\n",
    "    这是文档的文字内容\n",
    "    :param name: 表示学生的姓名\n",
    "    :param age: 表示学生的年龄\n",
    "    :return: 此函数没有返回值\n",
    "    '''\n",
    "    pass\n",
    "\n",
    "\n",
    "print(help(stu))\n",
    "\n",
    "print(\"*\" * 20)\n",
    "\n",
    "print(stu.__doc__)"
   ]
  }
 ],
 "metadata": {
  "kernelspec": {
   "display_name": "Python 3",
   "language": "python",
   "name": "python3"
  },
  "language_info": {
   "codemirror_mode": {
    "name": "ipython",
    "version": 3
   },
   "file_extension": ".py",
   "mimetype": "text/x-python",
   "name": "python",
   "nbconvert_exporter": "python",
   "pygments_lexer": "ipython3",
   "version": "3.7.0"
  }
 },
 "nbformat": 4,
 "nbformat_minor": 2
}
