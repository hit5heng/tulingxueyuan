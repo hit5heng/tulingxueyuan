{
 "cells": [
  {
   "cell_type": "markdown",
   "metadata": {},
   "source": [
    "# while\n",
    "- 一个循环语句\n",
    "- 表示当某个条件成立的时候，就循环\n",
    "- 不知道具体循环的次数，但能确定循环成立条件的时候使用while循环\n",
    "- while语法：\n",
    "    while 条件表达式：\n",
    "        语句块\n",
    "    \n",
    "    #另外一种形式\n",
    "    while 条件表达式：\n",
    "        语句块\n",
    "    else：\n",
    "        语句块\n",
    "    "
   ]
  },
  {
   "cell_type": "code",
   "execution_count": 5,
   "metadata": {},
   "outputs": [
    {
     "name": "stdout",
     "output_type": "stream",
     "text": [
      "第1年，本钱为10670.0\n",
      "第2年，本钱为11384.89\n",
      "第3年，本钱为12147.677629999998\n",
      "第4年，本钱为12961.572031209998\n",
      "第5年，本钱为13829.997357301068\n",
      "第6年，本钱为14756.607180240238\n",
      "第7年，本钱为15745.299861316334\n",
      "第8年，本钱为16800.23495202453\n",
      "第9年，本钱为17925.85069381017\n",
      "第10年，本钱为19126.88269029545\n",
      "第11年，本钱为20408.383830545245\n",
      "finally, you get you money\n"
     ]
    }
   ],
   "source": [
    "benqian = 10000\n",
    "years = 0\n",
    "while benqian < 20000:\n",
    "    benqian = benqian * 1.067\n",
    "    years += 1 #years = years +1\n",
    "    print('第{0}年，本钱为{1}'.format(years,benqian))\n",
    "else:    #else可以不用\n",
    "    print('finally, you get you money')"
   ]
  },
  {
   "cell_type": "code",
   "execution_count": 3,
   "metadata": {},
   "outputs": [
    {
     "name": "stdout",
     "output_type": "stream",
     "text": [
      "第11年，本钱为20408.383830545245\n"
     ]
    }
   ],
   "source": [
    "benqian = 10000\n",
    "years = 0\n",
    "while benqian < 20000:\n",
    "    benqian = benqian * 1.067\n",
    "    years += 1 #years = years +1\n",
    "print('第{0}年，本钱为{1}'.format(years,benqian))"
   ]
  },
  {
   "cell_type": "markdown",
   "metadata": {},
   "source": [
    "# 函数\n",
    "- 代码的一种组织形式\n",
    "- 一个函数一般完成一项特定的功能\n",
    "- 函数的使用\n",
    "    - 函数需要先定义\n",
    "    - 使用函数，俗称调用"
   ]
  },
  {
   "cell_type": "code",
   "execution_count": 9,
   "metadata": {},
   "outputs": [
    {
     "name": "stdout",
     "output_type": "stream",
     "text": [
      "上面定义了一个函数\n"
     ]
    }
   ],
   "source": [
    "#定义一个函数\n",
    "#只是定义的话不会执行\n",
    "'''\n",
    "1、def关键字\n",
    "2、函数名，自定义，起名规则要遵循命名规则，约定俗成：大驼峰命名只给类用\n",
    "3、后面括号和冒号不能省略，括号内可以有参数\n",
    "4、函数内所有代码缩进\n",
    "'''\n",
    "\n",
    "def func():\n",
    "    print('I\\'m fine,')\n",
    "    print('thank you.')\n",
    "print('上面定义了一个函数')"
   ]
  },
  {
   "cell_type": "code",
   "execution_count": 10,
   "metadata": {},
   "outputs": [
    {
     "name": "stdout",
     "output_type": "stream",
     "text": [
      "I'm fine,\n",
      "thank you.\n"
     ]
    }
   ],
   "source": [
    "# 函数的调用\n",
    "# 直接函数名后面跟括号\n",
    "func()"
   ]
  },
  {
   "cell_type": "markdown",
   "metadata": {},
   "source": [
    "\n",
    "# 函数的参数和返回值\n",
    "\n",
    "- 参数： 负责给函数传递一些必要的数据或者信息\n",
    "    - 形参（形式参数）： 在函数定义的时候用到的参数没有具体值，只是一个占位的符号，成为形参\n",
    "    - 实参（实际参数）： 在调用函数的时候输入的值\n",
    "- 返回值： 函数的执行结果\n",
    "    - 使用return关键字\n",
    "    - 如果没有return，默认返回一个None\n",
    "    - 函数一旦执行return语句，则无条件返回，即结束函数的执行"
   ]
  },
  {
   "cell_type": "code",
   "execution_count": 12,
   "metadata": {},
   "outputs": [
    {
     "name": "stdout",
     "output_type": "stream",
     "text": [
      "Hi, Steven\n",
      "Steven, how are you!\n"
     ]
    }
   ],
   "source": [
    "#参数的定义和使用\n",
    "def hello(person):\n",
    "    print('{0}, how are you!'.format(person))\n",
    "\n",
    "P=input('Hi, ')\n",
    "    \n",
    "hello(P)"
   ]
  },
  {
   "cell_type": "code",
   "execution_count": 13,
   "metadata": {},
   "outputs": [
    {
     "name": "stdout",
     "output_type": "stream",
     "text": [
      "明月, 你肿么咧\n",
      "Sir, 你不理额额就走咧\n",
      "我已经跟明月打招呼了，明月不理我\n"
     ]
    }
   ],
   "source": [
    "# return语句的基本使用\n",
    "# 函数打完招呼后返回一句话\n",
    "def hello(person):\n",
    "    print(\"{0}, 你肿么咧\".format(person))\n",
    "    print(\"Sir, 你不理额额就走咧\")\n",
    "    \n",
    "    return \"我已经跟{0}打招呼了，{1}不理我\".format(person, person)\n",
    "  \n",
    "p = \"明月\"\n",
    "rst = hello(p)\n",
    "\n",
    "print(rst)"
   ]
  },
  {
   "cell_type": "code",
   "execution_count": 15,
   "metadata": {},
   "outputs": [
    {
     "name": "stdout",
     "output_type": "stream",
     "text": [
      "Steven,nice to meet you!\n",
      "hahaha\n"
     ]
    }
   ],
   "source": [
    "#return示例2\n",
    "def hello(person):\n",
    "    print('{0},nice to meet you!'.format(person))\n",
    "    return \"hahaha\"\n",
    "    print('nice to meet you, too!')\n",
    "    \n",
    "P='Steven'\n",
    "rst=hello(P)\n",
    "print(rst)"
   ]
  },
  {
   "cell_type": "code",
   "execution_count": 17,
   "metadata": {},
   "outputs": [
    {
     "name": "stdout",
     "output_type": "stream",
     "text": [
      "Help on built-in function print in module builtins:\n",
      "\n",
      "print(...)\n",
      "    print(value, ..., sep=' ', end='\\n', file=sys.stdout, flush=False)\n",
      "    \n",
      "    Prints the values to a stream, or to sys.stdout by default.\n",
      "    Optional keyword arguments:\n",
      "    file:  a file-like object (stream); defaults to the current sys.stdout.\n",
      "    sep:   string inserted between values, default a space.\n",
      "    end:   string appended after the last value, default a newline.\n",
      "    flush: whether to forcibly flush the stream.\n",
      "\n"
     ]
    }
   ],
   "source": [
    "# 查找函数帮助文档\n",
    "# 1. 用help函数\n",
    "help(print)"
   ]
  },
  {
   "cell_type": "code",
   "execution_count": 24,
   "metadata": {},
   "outputs": [
    {
     "name": "stdout",
     "output_type": "stream",
     "text": [
      "1 ----\n",
      "2 4 ----\n",
      "3 6 9 ----\n",
      "4 8 12 16 ----\n",
      "5 10 15 20 25 ----\n",
      "6 12 18 24 30 36 ----\n",
      "7 14 21 28 35 42 49 ----\n",
      "8 16 24 32 40 48 56 64 ----\n",
      "9 18 27 36 45 54 63 72 81 ----\n"
     ]
    }
   ],
   "source": [
    "#九九乘法表 V1\n",
    "for row in range(1,10):\n",
    "    for col in range(1,row+1):\n",
    "        print(row*col,end=' ')    #print打印一次后默认换行\n",
    "    print('----')"
   ]
  },
  {
   "cell_type": "code",
   "execution_count": 3,
   "metadata": {},
   "outputs": [
    {
     "name": "stdout",
     "output_type": "stream",
     "text": [
      "1  \n",
      "2 4  \n",
      "3 6 9  \n",
      "4 8 12 16  \n",
      "5 10 15 20 25  \n",
      "6 12 18 24 30 36  \n",
      "7 14 21 28 35 42 49  \n",
      "8 16 24 32 40 48 56 64  \n",
      "9 18 27 36 45 54 63 72 81  \n"
     ]
    }
   ],
   "source": [
    "#定义一个函数打印一行九九乘法表\n",
    "def printline(row):\n",
    "    for col in range(1,row+1):\n",
    "        print(row*col,end=' ')\n",
    "    print(' ') \n",
    "\n",
    "#九九乘法表 V2\n",
    "for row in range(1,10):\n",
    "    printline(row)\n",
    "        "
   ]
  },
  {
   "cell_type": "markdown",
   "metadata": {},
   "source": [
    "## 参数详解\n",
    "- 参考资料\n",
    "- python参考资料： headfirst python -> 零基础入门学习python（小甲鱼),本讲义参考的是流畅的python-->习题-->后期可以考虑腾讯公开免费课\n",
    "\n",
    "- 参数分类\n",
    "    - 普通参数\n",
    "    - 默认参数\n",
    "    - 关键字参数\n",
    "    - 收集参数\n",
    "\n",
    "### 普通参数\n",
    "- 参见上例\n",
    "    - 定义的时候直接定义变量名\n",
    "    - 调用的时候直接把变量或者值放入指定位置\n",
    "\n",
    "            def func_name(value1,value2,......):\n",
    "                func_block\n",
    "\n",
    "            # 调用\n",
    "            func_name（value1, value2,.......)\n",
    "\n",
    "            # 调用的时候，具体值参考的是位置，按位置赋值\n",
    "\n",
    "### 默认参数\n",
    "- 形参带有默认值\n",
    "\n",
    "- 调用的时候，如果没有对相应形参赋值，则使用默认值\n",
    "\n",
    "              def  func_name(p1=v1, p2=v2..........):\n",
    "                  func_block\n",
    "\n",
    "              #调用1，使用默认值\n",
    "              func_name()\n",
    "\n",
    "              # 调用2\n",
    "              value1= 100\n",
    "              value2=200\n",
    "              func_name(value1,value2)\n",
    "\n"
   ]
  },
  {
   "cell_type": "code",
   "execution_count": 5,
   "metadata": {},
   "outputs": [
    {
     "name": "stdout",
     "output_type": "stream",
     "text": [
      "{0} is {1}, and he is good student.\n",
      "{0} is {1}, and she is good student.\n"
     ]
    }
   ],
   "source": [
    "#默认参数示例\n",
    "#报名函数，需要知道学生的性别\n",
    "#报名的学生基本都是男的，所以，报名的时候没有特别制定，我们默认是男生\n",
    "\n",
    "def reg(name,age,gender='male'):\n",
    "    if gender == 'male':\n",
    "        print(\"{0} is {1}, and he is good student.\")\n",
    "    else:\n",
    "        print(\"{0} is {1}, and she is good student.\")\n",
    "        \n",
    "#调用默认函数案例1\n",
    "reg('Steven',21)\n",
    "reg('xiaojing',22,'female')\n"
   ]
  },
  {
   "cell_type": "code",
   "execution_count": null,
   "metadata": {},
   "outputs": [],
   "source": []
  },
  {
   "cell_type": "code",
   "execution_count": null,
   "metadata": {},
   "outputs": [],
   "source": []
  }
 ],
 "metadata": {
  "kernelspec": {
   "display_name": "Python 3",
   "language": "python",
   "name": "python3"
  },
  "language_info": {
   "codemirror_mode": {
    "name": "ipython",
    "version": 3
   },
   "file_extension": ".py",
   "mimetype": "text/x-python",
   "name": "python",
   "nbconvert_exporter": "python",
   "pygments_lexer": "ipython3",
   "version": "3.7.0"
  }
 },
 "nbformat": 4,
 "nbformat_minor": 2
}
