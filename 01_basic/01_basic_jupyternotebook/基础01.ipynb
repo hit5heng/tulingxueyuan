{
 "cells": [
  {
   "cell_type": "markdown",
   "metadata": {},
   "source": [
    "# 环境安装\n",
    "- Anaconda+Pycharm"
   ]
  },
  {
   "cell_type": "code",
   "execution_count": 6,
   "metadata": {},
   "outputs": [
    {
     "name": "stdout",
     "output_type": "stream",
     "text": [
      "hello world\n"
     ]
    }
   ],
   "source": [
    "print(\"hello world\") "
   ]
  },
  {
   "cell_type": "markdown",
   "metadata": {},
   "source": [
    " \n",
    "# 注释\n",
    "- 机器不执行\n",
    "- 注释的写法\n",
    "    - 行注释，以#开头，可以单独行，也可以在某行代码后边\n",
    "    - 块注释，'''开始，'''结束\n",
    "   "
   ]
  },
  {
   "cell_type": "code",
   "execution_count": 5,
   "metadata": {},
   "outputs": [
    {
     "name": "stdout",
     "output_type": "stream",
     "text": [
      "hello world\n"
     ]
    },
    {
     "data": {
      "text/plain": [
       "'\\n块注释\\n'"
      ]
     },
     "execution_count": 5,
     "metadata": {},
     "output_type": "execute_result"
    }
   ],
   "source": [
    "print(\"hello world\")#行注释\n",
    "'''\n",
    "块注释\n",
    "'''"
   ]
  },
  {
   "cell_type": "markdown",
   "metadata": {},
   "source": [
    "# 变量\n",
    "- 程序=数据结构+算法\n",
    "- 变量命名的规则\n",
    "    - 变量名可以包含数字，大小写字母，下划线，或者根多，但是不建议除了前三种（数字，大小写字母，下划线）\n",
    "        - 不能以数字开头\n",
    "        - 区分大小写\n",
    "        - Python中一般以下划线开头的内容具有特殊含义，不建议使用\n",
    "    - 推荐\n",
    "        - 使用固定含义的英文单词或者所写，srv=server,一般以posix命名规则为主\n",
    "        - 驼峰命名法\n",
    "            - 大驼峰，每个单词第一个字母大写，如：MyThings\n",
    "            - 小驼峰，类似大驼峰，但是第一个字母小写，如：myThings\n",
    "            - posix写法，多个单词用下划线连接，单词全部小写，如：my_tings\n",
    "    - 保留字和关键字\n",
    "        - 变量命名必须避开\n",
    "        - 关键字：class,def,break,for"
   ]
  },
  {
   "cell_type": "code",
   "execution_count": 1,
   "metadata": {},
   "outputs": [
    {
     "name": "stdout",
     "output_type": "stream",
     "text": [
      "['False', 'None', 'True', 'and', 'as', 'assert', 'async', 'await', 'break', 'class', 'continue', 'def', 'del', 'elif', 'else', 'except', 'finally', 'for', 'from', 'global', 'if', 'import', 'in', 'is', 'lambda', 'nonlocal', 'not', 'or', 'pass', 'raise', 'return', 'try', 'while', 'with', 'yield']\n"
     ]
    }
   ],
   "source": [
    "#查看关键字的方法\n",
    "import keyword #引入关键字模块\n",
    "#打印出系统全部关键字\n",
    "print(keyword.kwlist)"
   ]
  },
  {
   "cell_type": "markdown",
   "metadata": {},
   "source": [
    "## 变量声明\n",
    "    - var_name = var_value #一个等号表示赋值\n",
    "    - var1 = var2 = var3 =var_value #赋相同值\n",
    "    - var1,var2,var3 = v1,v2,v3 #分别赋值"
   ]
  },
  {
   "cell_type": "code",
   "execution_count": 4,
   "metadata": {},
   "outputs": [
    {
     "name": "stdout",
     "output_type": "stream",
     "text": [
      "18\n",
      "18\n",
      "17\n",
      "17\n",
      "17\n",
      "12\n",
      "21\n",
      "45\n"
     ]
    }
   ],
   "source": [
    "age = 18\n",
    "print(age)\n",
    "print(18)\n",
    "\n",
    "age1 = age2 = age3 = 17\n",
    "print(age1)\n",
    "print(age2)\n",
    "print(age3)\n",
    "\n",
    "age4,age5,age6 = 12,21,45\n",
    "print(age4)\n",
    "print(age5)\n",
    "print(age6)"
   ]
  },
  {
   "cell_type": "markdown",
   "metadata": {},
   "source": [
    "# 变量类型\n",
    "- 严格意义上将，python只有一个类型\n",
    "- 标准数据一共六种\n",
    "    - 数字类型Number\n",
    "    - 字符串类型string\n",
    "    - 列表list\n",
    "    - 元组tuple\n",
    "    - 字典Dictionary\n",
    "    - 集合set\n"
   ]
  },
  {
   "cell_type": "markdown",
   "metadata": {},
   "source": [
    "## Number数字类型\n",
    "- 数字类型没有大小限制\n",
    "### 整数\n",
    "- 没有小数部分，表示个数的数字\n",
    "- 自然数，0，负数\n",
    "- 整数分进制\n",
    "    - 二进制\n",
    "        - 计算机常用\n",
    "        - 计算机唯一能直接理解的数字\n",
    "        - 以0b开头的0，1代码\n",
    "    - 八进制\n",
    "        - 不常用\n",
    "        - 以0o开头的0-7的数字\n",
    "    - 十六进制\n",
    "        - 每思维二进制表示为一位十六进制数\n",
    "        - 包含0-9，a-f\n",
    "        - 以0x开头\n",
    "    - 十进制\n",
    "        - 18， 1213，3453"
   ]
  },
  {
   "cell_type": "code",
   "execution_count": 9,
   "metadata": {},
   "outputs": [
    {
     "name": "stdout",
     "output_type": "stream",
     "text": [
      "18\n",
      "18\n",
      "18\n",
      "18\n"
     ]
    }
   ],
   "source": [
    "age = 18\n",
    "print(age)\n",
    "\n",
    "age1 = 0b10010 #二进制\n",
    "print(age1)\n",
    "\n",
    "age2 = 0o22 #八进制\n",
    "print(age2)\n",
    "\n",
    "age3 = 0x12 #十六进制\n",
    "print(age3)"
   ]
  },
  {
   "cell_type": "markdown",
   "metadata": {},
   "source": [
    "### 浮点数\n",
    "- 小数\n",
    "- 计算机李表示浮点数可以有条件省略\n",
    "    - 3.14       3.       0.5       .5\n",
    "- 科学计数法（同数学定义）\n",
    "    - e或E跟后面整数\n",
    "    - 12345 == 1.2345e4         0.08 == 8e-2\n",
    "### 复数complex\n",
    "- 有一个实部和一个虚部构成的数字\n",
    "    - 虚部用j或J表示\n",
    "    - 5+3j    3j       （3j）\n",
    "### 布尔值\n",
    "- 表示真假的值\n",
    "- 只有两个值，True/False"
   ]
  },
  {
   "cell_type": "code",
   "execution_count": 10,
   "metadata": {},
   "outputs": [
    {
     "name": "stdout",
     "output_type": "stream",
     "text": [
      "19\n"
     ]
    }
   ],
   "source": [
    "#布尔值操作\n",
    "age = 18 +True\n",
    "print(age)"
   ]
  },
  {
   "cell_type": "markdown",
   "metadata": {},
   "source": [
    "## 字符串\n",
    "- 用来表示一串文字信息\n",
    "- 表示方法\n",
    "    - 单引号\n",
    "    - 双引号\n",
    "    - 三引号（三个单引号或者三个双引号）\n",
    "        - 能够扩起多行信息\n",
    "- 单双引号交错使用"
   ]
  },
  {
   "cell_type": "code",
   "execution_count": 14,
   "metadata": {
    "scrolled": true
   },
   "outputs": [
    {
     "name": "stdout",
     "output_type": "stream",
     "text": [
      "i love you\n",
      "我爱你\n",
      "a style = \"color:red\">哈哈哈</a>\n",
      "\n",
      "i love you\n",
      "我爱你\n",
      "哈哈哈\n",
      "\n",
      "\n"
     ]
    }
   ],
   "source": [
    "love = \"i love you\"\n",
    "print(love)\n",
    "\n",
    "love = '我爱你'\n",
    "print(love)\n",
    "\n",
    "#单引号双引号交错使用\n",
    "html = 'a style = \"color:red\">哈哈哈</a>'\n",
    "print(html)\n",
    "\n",
    "htmls = '''\n",
    "i love you\n",
    "我爱你\n",
    "哈哈哈\n",
    "\n",
    "'''\n",
    "print(htmls)"
   ]
  }
 ],
 "metadata": {
  "kernelspec": {
   "display_name": "Python 3",
   "language": "python",
   "name": "python3"
  },
  "language_info": {
   "codemirror_mode": {
    "name": "ipython",
    "version": 3
   },
   "file_extension": ".py",
   "mimetype": "text/x-python",
   "name": "python",
   "nbconvert_exporter": "python",
   "pygments_lexer": "ipython3",
   "version": "3.7.0"
  }
 },
 "nbformat": 4,
 "nbformat_minor": 2
}
